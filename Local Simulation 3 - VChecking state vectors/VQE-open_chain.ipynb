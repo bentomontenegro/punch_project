{
 "cells": [
  {
   "cell_type": "markdown",
   "id": "faf48ae5-797a-4fa1-9e9e-cb55588ffbe8",
   "metadata": {},
   "source": [
    "# Using VQE to determine the ground state of an open 3-qubit chain\n",
    "\n",
    "## Introduction\n",
    "\n",
    "This notebook is a complementation to on of my PhD projects, where I investigate what happens to a chain of three qubits after the end-tip qubits is submit to periodic measurements (= \"punches\").\n",
    "\n",
    "Here I implement a very basic instance of the Variational Quantum Eigensolver (VQE) in order to find the ground state of this Hamiltonian for the sake of comparison in the actual project."
   ]
  },
  {
   "cell_type": "markdown",
   "id": "d580595e-ed8c-4da9-90fd-6763cd808b70",
   "metadata": {},
   "source": [
    "## VQE\n",
    "\n",
    "First, let us create a function that uses the `Estimator` primitive to compute the expectation value of our Hamiltonian\n",
    "\\begin{equation}\n",
    "    E(\\vec \\theta) = \\langle \\psi(\\vec \\theta) | H | \\psi(\\vec \\theta) \\rangle.\n",
    "\\end{equation}\n",
    "where, as usual, $\\vec \\theta$ is a set of parameters which we would like to investigate in order to minimize $E(\\vec \\theta)$."
   ]
  },
  {
   "cell_type": "code",
   "execution_count": 1,
   "id": "fb3dccb2-1c7d-455c-b9b9-0f6f71d1d23e",
   "metadata": {},
   "outputs": [],
   "source": [
    "def vqe_energy(params, ansatz, hamiltonian, estimator):\n",
    "\n",
    "    ## Primitive unitary blocks\n",
    "    pubs = (ansatz, hamiltonian, params)\n",
    "\n",
    "    ## Running the job\n",
    "    job = estimator.run([pubs])\n",
    "    result = job.result()[0]\n",
    "\n",
    "    ## Returning expectation value\n",
    "    return result.data.evs"
   ]
  },
  {
   "cell_type": "markdown",
   "id": "439c4373-2aed-4118-822a-4f6002754f03",
   "metadata": {},
   "source": [
    "Now, considering that we don't have any prior clue about the set of _optimal parameters_ $\\vec \\theta^*$ which will minimize this Hamiltonian and solve our problem, we create a 6-parameter ansatz corresponding to the six rotation angles describing the qubits in their respective Bloch spheres (two for each qubit). We also define our Hamiltonian and use `scipy.minimize` to implement the optimization routine."
   ]
  },
  {
   "cell_type": "code",
   "execution_count": 3,
   "id": "550f0195-bc5a-445b-94b9-1e0560b0053d",
   "metadata": {},
   "outputs": [
    {
     "data": {
      "text/latex": [
       "$$(0.0620777094 - 0.875384204 i) |000\\rangle+(-0.4782245788 - 0.0339132078 i) |100\\rangle$$"
      ],
      "text/plain": [
       "<IPython.core.display.Latex object>"
      ]
     },
     "execution_count": 3,
     "metadata": {},
     "output_type": "execute_result"
    }
   ],
   "source": [
    "import numpy as np\n",
    "from scipy.optimize import minimize\n",
    "from qiskit.quantum_info import SparsePauliOp, Statevector\n",
    "from qiskit.primitives import StatevectorEstimator\n",
    "from qiskit import QuantumCircuit\n",
    "from qiskit.circuit import QuantumCircuit, ParameterVector\n",
    "\n",
    "## Creating parameter vector\n",
    "theta = ParameterVector(\"θ\", 6)\n",
    "\n",
    "## Defining our ansatz and applying parameterized gates\n",
    "ansatz = QuantumCircuit(3)\n",
    "\n",
    "## Applyting parameterized gates\n",
    "\n",
    "# qubit 0\n",
    "ansatz.rz(theta[0], 0)\n",
    "ansatz.rx(theta[1], 0)\n",
    "\n",
    "# qubit 1\n",
    "ansatz.rz(theta[2], 1)\n",
    "ansatz.rx(theta[3], 1)\n",
    "\n",
    "# qubit 2\n",
    "ansatz.rz(theta[4], 2)\n",
    "ansatz.rx(theta[5], 2)\n",
    "\n",
    "## Hamiltonian\n",
    "J_1 = J_2 = 2.0\n",
    "H = SparsePauliOp(data = [\"XXI\", \"IZZ\"], coeffs = [-J_1/2, -J_2/2])\n",
    "\n",
    "## Calling Estimator\n",
    "estimator = StatevectorEstimator()\n",
    "\n",
    "## Optimization routine\n",
    "\n",
    "# Initial guess\n",
    "x0 = np.ones(6) # Initial set of parameters\n",
    "\n",
    "# SciPy local BFGS (gradient-based) minimizer\n",
    "result = minimize(vqe_energy, x0, args = (ansatz, H, estimator), method = \"BFGS\")\n",
    "\n",
    "## Storing optimal parameters\n",
    "opt_params = result.x\n",
    "opt_params[opt_params < 1e-1] = 0 # Setting very small parameters to zero\n",
    "\n",
    "## Assigning parameters to the ansatz and printing the resulting statevector\n",
    "ansatz = ansatz.assign_parameters({theta: opt_params})\n",
    "Statevector(ansatz).draw(\"latex\")"
   ]
  },
  {
   "cell_type": "code",
   "execution_count": null,
   "id": "eec7b08e-9039-4d8d-81e4-572caa3179d0",
   "metadata": {},
   "outputs": [],
   "source": []
  }
 ],
 "metadata": {
  "kernelspec": {
   "display_name": "Python 3 (ipykernel)",
   "language": "python",
   "name": "python3"
  },
  "language_info": {
   "codemirror_mode": {
    "name": "ipython",
    "version": 3
   },
   "file_extension": ".py",
   "mimetype": "text/x-python",
   "name": "python",
   "nbconvert_exporter": "python",
   "pygments_lexer": "ipython3",
   "version": "3.10.11"
  }
 },
 "nbformat": 4,
 "nbformat_minor": 5
}
