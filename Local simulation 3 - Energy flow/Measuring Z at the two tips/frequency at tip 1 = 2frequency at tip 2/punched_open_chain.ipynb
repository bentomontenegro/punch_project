{
 "cells": [
  {
   "cell_type": "markdown",
   "id": "ac34ae1c-ce74-4ce1-a83e-37e8595da8df",
   "metadata": {},
   "source": [
    "# Qubit chain puched by measurements\n",
    "\n",
    "## Introduction\n",
    "\n",
    "Here we analyze a chain of N-spins where the end-most spins (spin 1 and spin N) are subject to periodic measurements. First we define the Hamiltonian of the chain, then we implement the simulation explicitly.\n",
    "\n",
    "<div style=\"text-align: center;\">\n",
    "    <img src=\"Cimatec.png\" alt=\"Description\" style=\"width: 50%;\"/>\n",
    "    <p style=\"text-align: center;\"><strong>Figure 1:</strong> Example circuit for our monitoring process.</p>\n",
    "</div>"
   ]
  },
  {
   "cell_type": "markdown",
   "id": "5817a301-129a-4bc4-903f-293e2b2f4a3a",
   "metadata": {},
   "source": [
    "## Simulation\n",
    "\n",
    "### Hamiltonians"
   ]
  },
  {
   "cell_type": "markdown",
   "id": "da66ca6b-09e6-4b1f-8225-829a6e9e4806",
   "metadata": {},
   "source": [
    "#### Initial model\n",
    "\n",
    "The Hamiltonian of a Heisenberg model is given by\n",
    "\\begin{equation}\n",
    "    H_{Heisenberg} = - \\frac{1}{2} \\sum_{j=1}^{N-1} \\Big( J_x^j X_j X_{j+1} + J_y^j Y_j Y_{j+1} + J_z^j Z_j Z_{j+1} \\Big)\n",
    "\\end{equation}\n",
    "where a term $-h \\sum_{j=1}^N Z_j$ can be added in the presence of a magnetic field along the z-axis. However, we leave this case for a later moment.\n",
    "\n",
    "#### Simplification\n",
    "\n",
    "Since we are interested in measuring spins 1 and N, let us isolate the terms corresponding to them explicitly:\n",
    "\\begin{equation}\n",
    "\\begin{split}\n",
    "    H_{Heisenberg} &= - \\frac{1}{2} \\Big( J_x^1 X_1 X_2 + J_y^1 Y_1 Y_2 + J_z^1 Z_1 Z_2 \\Big) - \\frac{1}{2} \\sum_{j=2}^{N-2} \\Big( J_x^j X_j X_{j+1} + J_y^j Y_j Y_{j+1} + J_z^j Z_j Z_{j+1} \\Big) -\\\\\n",
    "    &- \\frac{1}{2} \\Big( J_x^{N-1} X_{N-1} X_N + J_y^{N-1} Y_{N-1} Y_N + J_z^{N-1} Z_{N-1} Z_N \\Big)\n",
    "\\end{split}\n",
    "\\end{equation}\n",
    "\n",
    "Now we simplify our initial analysis by considering that the intermediate spins obey the Ising model, i.e. $J_j^x = J_j^y = 0$. Moreover, we also set $J_1^z = J_1^y = 0$ and $J_{N-1}^x = J_{N-1}^y = 0$. This means that spin 1 can only be aligned to the x-axis and all other spins to the z-axis. Thus, incorporating the factor of 1/2 into the coupling constants and setting $J_z^j = J_z$ and $J_x^1 = J_x$, we reach at\n",
    "\\begin{equation}\n",
    "    H_{open} = - J_x X_1 X_2 - J_z \\sum_{j=2}^{N-2} Z_j Z_{j+1} - J_z Z_{N-1} Z_N\n",
    "\\end{equation}\n",
    "where the subscript _open_ means that we restrict our analysis for now to an _open chain_, i.e. a chain where qubits N and 1 do not interact."
   ]
  },
  {
   "cell_type": "markdown",
   "id": "8d1ec9ff-2686-48bb-b3ec-ceec6c502f01",
   "metadata": {},
   "source": [
    "### Defining parameters"
   ]
  },
  {
   "cell_type": "code",
   "execution_count": 1,
   "id": "e9aba5b7-efe8-4e2e-b117-18855450c50d",
   "metadata": {},
   "outputs": [],
   "source": [
    "# Simulation parameters\n",
    "num_spins = 5\n",
    "J_x = 1\n",
    "J_z = 1"
   ]
  },
  {
   "cell_type": "markdown",
   "id": "853598d8-1a81-4c34-b395-ac2badda8e98",
   "metadata": {},
   "source": [
    "### Visualizing chain\n",
    "\n",
    "In qiskit the chains are implemented as `CouplingMap` instances, based on the importance of these systems to build the architecture of quantum processors. The idea is to represent our chains as computer science _graphs_, where each qubit is a vertex and each edge connecting two vertices is an interaction."
   ]
  },
  {
   "cell_type": "code",
   "execution_count": 14,
   "id": "4e76ba78-e785-4409-8e1c-878f8ae9e2d7",
   "metadata": {
    "scrolled": true,
    "tags": []
   },
   "outputs": [
    {
     "data": {
      "image/jpeg": "[encoded data removed]",
      "image/png": "[encoded data removed]",
      "text/plain": [
       "<PIL.PngImagePlugin.PngImageFile image mode=RGB size=243x405>"
      ]
     },
     "execution_count": 14,
     "metadata": {},
     "output_type": "execute_result"
    }
   ],
   "source": [
    "from qiskit.transpiler import CouplingMap\n",
    "\n",
    "# Creating open chain\n",
    "chain = CouplingMap.from_line(num_qubits=num_spins, bidirectional=False)\n",
    "chain.draw()"
   ]
  },
  {
   "cell_type": "markdown",
   "id": "c55db189-00bd-4fed-8450-5769366107dd",
   "metadata": {},
   "source": [
    "### Implementing Hamiltonian\n",
    "\n",
    "Here we implement the Hamiltonians defined above explicitly. In order to optimize its execution on a real hardware we first separate the terms that correspond to even and odd edges of the graphs (edge 0 connects qubits 0 and 1, edge 1 connects qubits 1 and 2, etc.). (In our case, the order of storing the terms into a list matters for implementing the trotterization method during time-evolution.)"
   ]
  },
  {
   "cell_type": "code",
   "execution_count": 3,
   "id": "3fe9c009-8843-4c69-b072-cbb2df2c8fb9",
   "metadata": {},
   "outputs": [
    {
     "name": "stdout",
     "output_type": "stream",
     "text": [
      "SparsePauliOp(['IIIXX', 'IZZII', 'IIZZI', 'ZZIII'],\n",
      "              coeffs=[-1.+0.j, -1.+0.j, -1.+0.j, -1.+0.j])\n"
     ]
    }
   ],
   "source": [
    "from qiskit.quantum_info import SparsePauliOp\n",
    "\n",
    "# Listing edges\n",
    "edges = chain.graph.edge_list()\n",
    "even_edges = [ element for index, element in enumerate(edges) if index % 2 == 0 ]\n",
    "odd_edges = [ element for index, element in enumerate(edges) if index % 2 == 1 ]\n",
    "\n",
    "# Building Hamiltonian\n",
    "ham_list = []\n",
    "\n",
    "ham_list.append(('XX', even_edges[0], -J_x))\n",
    "\n",
    "for edge in even_edges[1:]:\n",
    "    ham_list.append(('ZZ', edge, -J_z))\n",
    "\n",
    "for edge in odd_edges:\n",
    "    ham_list.append(('ZZ', edge, -J_z))\n",
    "    \n",
    "hamiltonian = SparsePauliOp.from_sparse_list(obj=ham_list, num_qubits=num_spins)\n",
    "\n",
    "print(hamiltonian)"
   ]
  },
  {
   "cell_type": "markdown",
   "id": "42fc4f3c-c238-4178-8b73-45b6254257bd",
   "metadata": {},
   "source": [
    "#### Energy-flow across the chain\n",
    "\n",
    "In this project we would like to analyse the flow of energy across the chain. Thus, it is convenient to define a list with each term of the Hamiltonian (which corresponds to an interaction between a given pair of qubits) as a unique `PauliSparseOp`."
   ]
  },
  {
   "cell_type": "code",
   "execution_count": 15,
   "id": "52927426-91bf-4623-afb1-9d983118a6d3",
   "metadata": {},
   "outputs": [
    {
     "data": {
      "text/plain": [
       "[SparsePauliOp(['IIIXX'],\n",
       "               coeffs=[-1.+0.j]),\n",
       " SparsePauliOp(['IIZZI'],\n",
       "               coeffs=[-1.+0.j]),\n",
       " SparsePauliOp(['IZZII'],\n",
       "               coeffs=[-1.+0.j]),\n",
       " SparsePauliOp(['ZZIII'],\n",
       "               coeffs=[-1.+0.j])]"
      ]
     },
     "execution_count": 15,
     "metadata": {},
     "output_type": "execute_result"
    }
   ],
   "source": [
    "# Local terms of the Hamiltonian\n",
    "ham_terms = []\n",
    "\n",
    "ham_terms.append(SparsePauliOp.from_sparse_list(obj=[('XX', edges[0], -J_x)], num_qubits=num_spins))\n",
    "\n",
    "for edge in edges[1:]:\n",
    "    ham_terms.append(SparsePauliOp.from_sparse_list(obj=[('ZZ', edge, -J_z)], num_qubits=num_spins))\n",
    "\n",
    "ham_terms"
   ]
  },
  {
   "cell_type": "markdown",
   "id": "bcd8ce91-d347-4e9a-a590-e78caec40028",
   "metadata": {},
   "source": [
    "### Implementing time-evolution\n",
    "\n",
    "#### Trotterization\n",
    "\n",
    "Now we need to represent the time-evolution operator of our chains, $U = e^{-i H \\delta t}$, as a quantum circuit. This can be done by getting the matrix form of the Hamiltonian of each system and exponentiating them to define both $U$'s as gates acting on $N$ qubits directly. However, this method is not scallabe, and can become impractical for execution when $N$ is large. This is why we must use _trotterization_ to approximate $U$ efficiently."
   ]
  },
  {
   "cell_type": "code",
   "execution_count": 5,
   "id": "b46aa460-ae58-4dbc-8299-d9059b4b47aa",
   "metadata": {},
   "outputs": [],
   "source": [
    "from qiskit.circuit import Parameter\n",
    "from qiskit.circuit.library import PauliEvolutionGate\n",
    "from qiskit.synthesis import LieTrotter\n",
    "\n",
    "# Time-evolution parameter\n",
    "dt = Parameter('ẟt')\n",
    "\n",
    "# Number of trotterization layers\n",
    "trotter_factory = LieTrotter(reps=4)\n",
    "\n",
    "# Time-evolution operator\n",
    "U = PauliEvolutionGate(hamiltonian, time=dt)\n",
    "U_qc = trotter_factory.synthesize(U)"
   ]
  },
  {
   "cell_type": "markdown",
   "id": "36b1d4fb-3414-47bd-b280-c5797ca21c8e",
   "metadata": {},
   "source": [
    "#### Drawing time-evolution circuit"
   ]
  },
  {
   "cell_type": "code",
   "execution_count": 6,
   "id": "32bfc770-17d9-459c-8234-59a803e21915",
   "metadata": {
    "scrolled": true,
    "tags": []
   },
   "outputs": [
    {
     "data": {
      "image/png": "[encoded data removed]",
      "text/plain": [
       "<Figure size 1458.05x451.5 with 1 Axes>"
      ]
     },
     "execution_count": 6,
     "metadata": {},
     "output_type": "execute_result"
    }
   ],
   "source": [
    "# Time-evolution circuit for an open chain\n",
    "U_qc.decompose().draw('mpl')"
   ]
  },
  {
   "cell_type": "markdown",
   "id": "87dab341-ed34-4109-929c-8ed548283360",
   "metadata": {},
   "source": [
    "### Implementing simulation\n",
    "\n",
    "Below we start by creating a dictionary to prepare our circuits for each chain, as exemplified in Fig. 1. Calling a _step_ the compund process of a time-evolution followed by a measurement, we prepare now a circuit containing no steps, a circuit containing 1 step, a circuit containing 2 steps, and so on. Then we transpile these circuits, as well as the Hamiltonian, to a target backend of our choice.\n",
    "\n",
    "#### Preparing circuits\n",
    "\n",
    "In this notebook we measure spin 1 with a frequency $f$ and spin N with a frequency $f' = 2f$. For example, we evolve the circuit once, then measure spin N; then we evolve the circuit one more time and measure spin 1 and spin N; then we evolve the circuit one more time and measure only spin N again, and so on."
   ]
  },
  {
   "cell_type": "code",
   "execution_count": 7,
   "id": "cc88154d-b348-4d69-94e4-b9727e63f3eb",
   "metadata": {
    "scrolled": true
   },
   "outputs": [],
   "source": [
    "import numpy as np\n",
    "from qiskit.circuit import QuantumCircuit\n",
    "# from qiskit_ibm_runtime.fake_provider import FakeKyoto\n",
    "from qiskit_aer import AerSimulator\n",
    "from qiskit.transpiler.preset_passmanagers import generate_preset_pass_manager\n",
    "\n",
    "# Calling backend and pass manager\n",
    "backend = AerSimulator()\n",
    "pass_manager = generate_preset_pass_manager(optimization_level=2, backend=backend)\n",
    "\n",
    "# Parameters for the simulation\n",
    "time_step = 0.5/2\n",
    "num_steps = 15\n",
    "\n",
    "# Storing circuits to be executed\n",
    "staged_circuits = {}\n",
    "\n",
    "# Initial circuit\n",
    "qc = QuantumCircuit(num_spins, 2)\n",
    "staged_circuits['step 0'] = qc\n",
    "\n",
    "# Steps (Varying the measurement frequency for each end-tip qubit)\n",
    "for step in range(num_steps):\n",
    "    qc = qc.compose(U_qc)\n",
    "    qc.measure(num_spins-1, 1)\n",
    "    qc = qc.compose(U_qc)\n",
    "    qc.measure([0, num_spins-1], [0, 1])\n",
    "    \n",
    "    staged_circuits['step {}'.format(step+1)] = qc\n",
    "\n",
    "# Transpiling circuits\n",
    "isa_circuits = {}\n",
    "for key in staged_circuits.keys():\n",
    "    isa_circuits[key] = pass_manager.run(staged_circuits[key])\n",
    "\n",
    "# Transpiling observables\n",
    "isa_observables = {}\n",
    "for key in isa_circuits.keys():\n",
    "    isa_observables[key] = [ h.apply_layout(isa_circuits[key].layout) for h in ham_terms ]\n",
    "\n",
    "# Setting PUBs\n",
    "chain_pubs = {'step 0': (isa_circuits['step 0'], isa_observables['step 0'])}\n",
    "for step in range(1, num_steps+1):\n",
    "    chain_pubs[f'step {step}'] = ( isa_circuits[f'step {step}'], isa_observables[f'step {step}'], time_step )"
   ]
  },
  {
   "cell_type": "markdown",
   "id": "b82cc1c5-01e3-4363-9e53-cb8593e37afa",
   "metadata": {},
   "source": [
    "#### Simulation"
   ]
  },
  {
   "cell_type": "code",
   "execution_count": 8,
   "id": "230cb0b0-813a-4382-a0f9-a47566432ffa",
   "metadata": {},
   "outputs": [
    {
     "name": "stderr",
     "output_type": "stream",
     "text": [
      "Trajectory: 100%|███████████████████████████████| 30/30 [01:17<00:00,  2.58s/it]\n"
     ]
    }
   ],
   "source": [
    "from tqdm import tqdm\n",
    "from qiskit_ibm_runtime import EstimatorV2 as Estimator\n",
    "\n",
    "# Number of trajectories\n",
    "num_trajectories = 30\n",
    "\n",
    "# Calling Estimator\n",
    "estimator = Estimator(mode=backend)\n",
    "\n",
    "# Collecting all pubs into a list\n",
    "all_steps_pubs = []\n",
    "for key in chain_pubs.keys():\n",
    "    all_steps_pubs.append(chain_pubs[key])\n",
    "\n",
    "# Dictionary to store parameters\n",
    "parameters_dict = {'num_spins': num_spins, \n",
    "                   'num_steps': num_steps,\n",
    "                   'num_trajectories': num_trajectories,\n",
    "                   'backend': backend.name,\n",
    "                   'time_step': time_step}\n",
    "\n",
    "# Dictionary to store expectation values\n",
    "expvals_dict = { key: np.zeros(len(edges)) for key in chain_pubs.keys() }\n",
    "\n",
    "for trajectory in tqdm(range(num_trajectories), desc='Trajectory'):\n",
    "    job = estimator.run(pubs=all_steps_pubs)\n",
    "    job_result = job.result()\n",
    "    for i in range(num_steps+1):\n",
    "        expvals = job_result[i].data.evs\n",
    "        expvals_dict[f'step {i}'] += (1/num_trajectories)*np.array(expvals)"
   ]
  },
  {
   "cell_type": "markdown",
   "id": "9e14d82c-2de9-46f3-95dc-8f00b2e01284",
   "metadata": {
    "tags": []
   },
   "source": [
    "#### Saving results into a file"
   ]
  },
  {
   "cell_type": "code",
   "execution_count": 11,
   "id": "4438e8a6-66fd-4d73-92f9-15129954348a",
   "metadata": {},
   "outputs": [],
   "source": [
    "# Saving parameters and results into a dictionary\n",
    "results_dict = { 'Parameters': parameters_dict, 'Expectation values': expvals_dict }\n",
    "\n",
    "# Converting expectation value array into lists\n",
    "for key in results_dict['Expectation values'].keys():\n",
    "    results_dict['Expectation values'][key] = list(results_dict['Expectation values'][key])"
   ]
  },
  {
   "cell_type": "code",
   "execution_count": 13,
   "id": "c997a08e-0548-4c1c-ab7b-19de2eb1e6df",
   "metadata": {},
   "outputs": [],
   "source": [
    "import json\n",
    "\n",
    "# Saving data\n",
    "filename = f'{num_spins}_spins-{num_steps}_steps-{num_trajectories}_trajectories-dt={time_step}.json'\n",
    "with open(filename, 'w') as file:\n",
    "    json.dump(results_dict, file)\n",
    "    \n",
    "# Code to load data from a json file\n",
    "# import json\n",
    "\n",
    "# with open('data.json', 'r') as file:\n",
    "#     loaded_dict = json.load(file)"
   ]
  },
  {
   "cell_type": "code",
   "execution_count": null,
   "id": "a560cbee-396c-4ef2-8781-f0b04cf59f31",
   "metadata": {},
   "outputs": [],
   "source": []
  }
 ],
 "metadata": {
  "kernelspec": {
   "display_name": "Python 3 (ipykernel)",
   "language": "python",
   "name": "python3"
  },
  "language_info": {
   "codemirror_mode": {
    "name": "ipython",
    "version": 3
   },
   "file_extension": ".py",
   "mimetype": "text/x-python",
   "name": "python",
   "nbconvert_exporter": "python",
   "pygments_lexer": "ipython3",
   "version": "3.10.11"
  }
 },
 "nbformat": 4,
 "nbformat_minor": 5
}
