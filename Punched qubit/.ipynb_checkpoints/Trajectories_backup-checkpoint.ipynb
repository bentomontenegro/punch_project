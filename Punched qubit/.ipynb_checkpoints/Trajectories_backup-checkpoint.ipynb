{
 "cells": [
  {
   "cell_type": "code",
   "execution_count": null,
   "id": "b1d49df6-4fe4-48de-be35-8010b3b3a451",
   "metadata": {},
   "outputs": [],
   "source": [
    "### import numpy as np\n",
    "import matplotlib.pyplot as plt\n",
    "from qiskit_ibm_runtime import EstimatorV2 as Estimator\n",
    "from qiskit_aer import AerSimulator\n",
    "\n",
    "## Trajectories\n",
    "\n",
    "num_trajectories = 50\n",
    "num_steps = 20 # Number of steps\n",
    "expvals = np.zeros(num_steps) # Array to store expectation values\n",
    "\n",
    "## Calling Estimator\n",
    "backend = AerSimulator()\n",
    "estimator = Estimator(backend = backend)\n",
    "\n",
    "for trajectory in range(num_trajectories):\n",
    "    chain = QuantumCircuit(3, 1)\n",
    "    \n",
    "    for step in range(num_steps):\n",
    "        pubs = (chain, H)\n",
    "        job = estimator.run([pubs])\n",
    "        expvals[step] += job.result()[0].data.evs\n",
    "        chain.append(U_dt, [0, 1, 2])\n",
    "        chain.measure(2, 0)\n",
    "        \n",
    "        # print(trajectory, step)\n",
    "\n",
    "expvals /= num_trajectories\n",
    "\n",
    "fig, ax = plt.subplots()\n",
    "ax.plot(range(num_steps), expvals, color = \"darkred\")\n",
    "ax.plot(range(num_steps), np.zeros(num_steps), color = \"darkblue\", linestyle = \"dashed\")\n",
    "ax.set_xticks(range(num_steps))\n",
    "ax.set_xlabel(\"steps\", size = 20)\n",
    "ax.set_ylabel(r\"$\\langle H \\rangle$\", size = 20)\n",
    "# ax.xaxis.set_label_coords(0.9, -0.1)\n",
    "# ax.yaxis.set_label_coords(-0.1, 0.9)\n",
    "plt.show()"
   ]
  }
 ],
 "metadata": {
  "kernelspec": {
   "display_name": "Python 3 (ipykernel)",
   "language": "python",
   "name": "python3"
  },
  "language_info": {
   "codemirror_mode": {
    "name": "ipython",
    "version": 3
   },
   "file_extension": ".py",
   "mimetype": "text/x-python",
   "name": "python",
   "nbconvert_exporter": "python",
   "pygments_lexer": "ipython3",
   "version": "3.10.11"
  }
 },
 "nbformat": 4,
 "nbformat_minor": 5
}
