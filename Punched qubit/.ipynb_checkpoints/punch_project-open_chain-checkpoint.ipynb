{
 "cells": [
  {
   "cell_type": "markdown",
   "id": "5224851f-d4d2-44c8-afd2-ea37ce572972",
   "metadata": {},
   "source": [
    "## Open 3-qubit chain \"punched\" by measurements"
   ]
  },
  {
   "cell_type": "markdown",
   "id": "77cef1ce",
   "metadata": {},
   "source": [
    "## Introduction\n",
    "\n",
    "Here we use Qiskit 1.0 to simulate a chain of 3 qubits, where one of the qubits is subject to periodic measurements. More specifically, we choose a particular Hamiltonian to simulate the interactions between the qubits and calculate its expectation value right after each measurement. Hopefully this will help us to gain insight on how the energy of the system may be \"disturbed\" by ancillary measurement processes.\n",
    "\n",
    "As this notebook is the very start of this investigation, it is worth to keep things simple. So we begin by simulating our system locally, reserving to run it directly on real quantum hardware for the future."
   ]
  },
  {
   "cell_type": "markdown",
   "id": "8cd3a502",
   "metadata": {},
   "source": [
    "## 1. Outline of the project\n",
    "\n",
    "### Measurement protocol\n",
    "\n",
    "If $H$ is the Hamiltonian of the system, our idea is to repeat the following steps several times:\n",
    "\n",
    "1. Evolve the chain a time $\\Delta t$.\n",
    "2. Measure the rightmost qubit.\n",
    "3. Compute $\\langle H \\rangle$.\n",
    "\n",
    "It is useful to call a single implementation of these three instructions a __step__ and a sequence of $N$ integer steps a __trajectory__. Thus, the $i$-th trajectory is characterized by the set of expectation values $\\{ \\langle H \\rangle_{\\Delta t}, \\langle H \\rangle_{2 \\Delta t}, ..., \\langle H \\rangle_{T} \\}$, where $T \\equiv N \\Delta t$.\n",
    "\n",
    "Two types of chains can be considered: __open chains__, where the two end-tip qubits don't interact, and __closed chains__, where they do.\n",
    "\n",
    "More specifically, let us choose:\n",
    "\n",
    "\\begin{equation}\n",
    "    \\begin{split}\n",
    "        H_{open} &= - \\frac{J_1}{2} I \\otimes X \\otimes X - \\frac{J_2}{2} Z \\otimes Z \\otimes I\\\\\n",
    "        H_{closed} &=  - \\frac{J_1}{2} I \\otimes X \\otimes X - \\frac{J_2}{2} Z \\otimes Z \\otimes I - \\frac{J_3}{2} X \\otimes I \\otimes X\n",
    "    \\end{split}\n",
    "\\end{equation}\n",
    "\n",
    "where $J_1$, $J_2$ and $J_3$ are constants. Our unitary time evolution operator at each step is then $U = exp\\{ - i H \\Delta t \\}$.\n",
    "\n",
    "In a first moment, let us focus on an open chain. A single trajectory looks like this:"
   ]
  },
  {
   "cell_type": "code",
   "execution_count": 71,
   "id": "a48dc0c6",
   "metadata": {},
   "outputs": [
    {
     "data": {
      "text/latex": [
       "$$(0.9900166556 + 0.0996669998 i) |000\\rangle+0.0996669998 i |110\\rangle$$"
      ],
      "text/plain": [
       "<IPython.core.display.Latex object>"
      ]
     },
     "execution_count": 71,
     "metadata": {},
     "output_type": "execute_result"
    }
   ],
   "source": [
    "from qiskit import QuantumCircuit\n",
    "from qiskit.quantum_info import SparsePauliOp, Statevector\n",
    "from scipy.linalg import expm\n",
    "from qiskit.circuit.library import UnitaryGate\n",
    "from qiskit.primitives import StatevectorEstimator\n",
    "\n",
    "## Parameters\n",
    "\n",
    "J_1 = J_2 = -2.0 # Coupling constants\n",
    "dt = 0.1 # Step interval\n",
    "\n",
    "## Operators\n",
    "\n",
    "H = SparsePauliOp(data = [\"XXI\", \"IZZ\"], coeffs = [J_1/2, J_2/2]) # Hamiltonian\n",
    "U = UnitaryGate(expm(-1.0j*H.to_matrix()*dt)) # Time-evolution operator\n",
    "\n",
    "## Implementing a single trajectory\n",
    "\n",
    "N = 20 # Number of steps\n",
    "expvals = [] # Array to store expectation values\n",
    "\n",
    "## TEST\n",
    "chain = QuantumCircuit(3, 1)\n",
    "chain.append(U, [0, 1, 2])\n",
    "psi = Statevector(chain)\n",
    "psi.draw('latex')\n",
    "# estimator = StatevectorEstimator()\n",
    "# pubs = (chain, H)\n",
    "# job = estimator.run([pubs])\n",
    "# result = job.result()[0]\n",
    "# # expval = result.data.evs\n",
    "\n",
    "# # expval"
   ]
  },
  {
   "cell_type": "code",
   "execution_count": null,
   "id": "332952f4-97c2-4838-b4c2-ca7ec0c88460",
   "metadata": {},
   "outputs": [],
   "source": []
  }
 ],
 "metadata": {
  "kernelspec": {
   "display_name": "Python 3 (ipykernel)",
   "language": "python",
   "name": "python3"
  },
  "language_info": {
   "codemirror_mode": {
    "name": "ipython",
    "version": 3
   },
   "file_extension": ".py",
   "mimetype": "text/x-python",
   "name": "python",
   "nbconvert_exporter": "python",
   "pygments_lexer": "ipython3",
   "version": "3.10.11"
  }
 },
 "nbformat": 4,
 "nbformat_minor": 5
}
