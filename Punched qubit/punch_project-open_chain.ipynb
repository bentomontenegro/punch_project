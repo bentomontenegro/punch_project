{
 "cells": [
  {
   "cell_type": "markdown",
   "id": "5224851f-d4d2-44c8-afd2-ea37ce572972",
   "metadata": {},
   "source": [
    "## Open 3-qubit chain \"punched\" by measurements"
   ]
  },
  {
   "cell_type": "markdown",
   "id": "77cef1ce",
   "metadata": {},
   "source": [
    "## Introduction\n",
    "\n",
    "Here we use Qiskit 1.0 to simulate a chain of 3 qubits, where one of the qubits is subject to periodic measurements. More specifically, we choose a particular Hamiltonian to simulate the interactions between the qubits and calculate its expectation value right after each measurement. Hopefully this will help us to gain insight on how the energy of the system may be \"disturbed\" by ancillary measurement processes.\n",
    "\n",
    "As this notebook is the very start of this investigation, it is worth to keep things simple. So we begin by simulating our system locally, reserving to run it directly on real quantum hardware for the future."
   ]
  },
  {
   "cell_type": "markdown",
   "id": "8cd3a502",
   "metadata": {},
   "source": [
    "## Outline of the project\n",
    "\n",
    "### Measurement protocol\n",
    "\n",
    "If $H$ is the Hamiltonian of the system, our idea is to repeat the following steps several times:\n",
    "\n",
    "1. Evolve the chain a time $\\Delta t$.\n",
    "2. Measure the rightmost qubit.\n",
    "3. Compute $\\langle H \\rangle$.\n",
    "\n",
    "It is useful to call a single implementation of these three instructions a __step__, and a sequence of $n$ integer steps a __trajectory__. Thus, the $i$-th trajectory is characterized by the set of $n$ expectation values $\\{ \\langle H \\rangle^i_{\\Delta t}, \\langle H \\rangle^i_{2 \\Delta t}, ..., \\langle H \\rangle^i_{n \\Delta t} \\} \\equiv \\gamma^i_n$.\n",
    "\n",
    "Two types of chains can be considered: __open chains__, where the two end-tip qubits don't interact, and __closed chains__, where they do.\n",
    "\n",
    "Let us work initially with an open chain. We may choose\n",
    "\n",
    "\\begin{equation}\n",
    "    \\begin{split}\n",
    "        H &= - \\frac{J_1}{2} I \\otimes X \\otimes X - \\frac{J_2}{2} Z \\otimes Z \\otimes I\\\\\n",
    "    \\end{split}\n",
    "\\end{equation}\n",
    "\n",
    "where $J_1$, $J_2$ and $J_3$ are (coupling) constants. Our unitary time evolution operator at each step is then $U = exp\\{ - i H \\Delta t \\}$.\n",
    "\n",
    "We can define these two operators in qiskit like so:"
   ]
  },
  {
   "cell_type": "code",
   "execution_count": 41,
   "id": "47facf3e-b40f-4d6d-9263-81faedfade9c",
   "metadata": {
    "scrolled": true
   },
   "outputs": [],
   "source": [
    "from scipy.linalg import expm\n",
    "from qiskit.quantum_info import SparsePauliOp\n",
    "from qiskit.circuit.library import UnitaryGate\n",
    "\n",
    "## Parameters\n",
    "J_1 = J_2 = 2.0 # Coupling constants\n",
    "dt = 0.5 # Step interval\n",
    "\n",
    "## Operators\n",
    "H = SparsePauliOp(data = [\"XXI\", \"IZZ\"], coeffs = [-J_1/2, -J_2/2]) # Hamiltonian\n",
    "U_dt = UnitaryGate(expm(-1.0j*H.to_matrix()*dt), label = r\"$U_{\\Delta t}$\") # Time-evolution operator"
   ]
  },
  {
   "cell_type": "markdown",
   "id": "53cb04ba-9ddb-4193-986c-a80fab982cbc",
   "metadata": {},
   "source": [
    "### Quantum trajectories\n",
    "\n",
    "Because of the random nature of measurements, it is clear that two distinct trajectories may differ drastically from each other. This suggests that, in order to obtain a general picture of our system, it is more relevant to consider _mean_ values instead of expectation values alone.\n",
    "\n",
    "Moreover, if we submit the chain to a large number of trajectories, $N$, we can determine the probability that the trajectory $\\gamma^i_n$ will occur: $p(\\gamma^i_n) \\equiv N^i/N$, where $N^i$ is the number of times that $\\gamma^i_n$ occurs after the $N$ repetitions. Thus, it makes sense to write:\n",
    "\\begin{equation}\n",
    "    \\langle H \\rangle_n = \\sum_{i=1}^N p(\\gamma^i_n) \\langle H \\rangle^i_{n \\Delta t}.\n",
    "\\end{equation}\n",
    "This formula accounts for both types of uncertainties: classical (associated to the probabilities $p(\\gamma^i)$, which represent our ignorance about which specific trajectory will occur in a experiment) and quantum (associated with the probabilities of each measurement outcome, embedded within $\\langle H \\rangle^i_n$)."
   ]
  },
  {
   "cell_type": "code",
   "execution_count": 95,
   "id": "1fd67dba-cfed-4e68-9a92-56dfa8beb1b6",
   "metadata": {},
   "outputs": [
    {
     "data": {
      "image/png": "[encoded data removed]",
      "text/plain": [
       "<Figure size 700x500 with 1 Axes>"
      ]
     },
     "execution_count": 95,
     "metadata": {},
     "output_type": "execute_result"
    }
   ],
   "source": [
    "import numpy as np\n",
    "import matplotlib.pyplot as plt\n",
    "from qiskit import QuantumCircuit\n",
    "from qiskit_ibm_runtime import SamplerV2 as Sampler\n",
    "from qiskit_aer import AerSimulator\n",
    "from qiskit.visualization import plot_distribution\n",
    "\n",
    "## Trajectories\n",
    "\n",
    "num_steps = 2 # Number of steps\n",
    "expvals = np.zeros(num_steps) # Array to store expectation values\n",
    "chain = QuantumCircuit(3, 1)\n",
    "\n",
    "## Calling Sampler\n",
    "for step in range(num_steps):\n",
    "    chain.append(U_dt, [0, 1, 2])\n",
    "    chain.measure(2, 0)\n",
    "\n",
    "chain.measure_all()\n",
    "\n",
    "backend = AerSimulator()\n",
    "sampler = Sampler(backend = backend)\n",
    "job = sampler.run([chain], shots = 10000)\n",
    "result = job.result()[0]\n",
    "counts = result.data.meas.get_counts()\n",
    "\n",
    "plot_distribution(counts)"
   ]
  },
  {
   "cell_type": "code",
   "execution_count": null,
   "id": "7799bc1a-84e0-4e4d-9859-d76578c1a43d",
   "metadata": {},
   "outputs": [],
   "source": []
  }
 ],
 "metadata": {
  "kernelspec": {
   "display_name": "Python 3 (ipykernel)",
   "language": "python",
   "name": "python3"
  },
  "language_info": {
   "codemirror_mode": {
    "name": "ipython",
    "version": 3
   },
   "file_extension": ".py",
   "mimetype": "text/x-python",
   "name": "python",
   "nbconvert_exporter": "python",
   "pygments_lexer": "ipython3",
   "version": "3.10.11"
  }
 },
 "nbformat": 4,
 "nbformat_minor": 5
}
